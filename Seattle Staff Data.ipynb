{
 "cells": [
  {
   "cell_type": "markdown",
   "metadata": {},
   "source": [
    "# City of Seattle Staff Demographic Analysis\n",
    "#### Navya Mangipudi, Big Data & Analytics, 9-17-19"
   ]
  },
  {
   "cell_type": "markdown",
   "metadata": {},
   "source": [
    "## Abstract:\n",
    "This lab is an analysis of both wage and age of City of Seattle employees. In this report, we will be finding the median, mode, mean, minimum and maximum values for both wage and age in the data set. We will also be finding the sum of all hourly wages from the data set. \n",
    "\n"
   ]
  },
  {
   "cell_type": "markdown",
   "metadata": {},
   "source": [
    "## Dataset Preparation\n",
    "\n",
    "This dataset represents the demographics of Seattle City Staff. This includes race, sex, department, age, wage, whether the employee is temporary or regular and, the status of the employee. For this particular analysis, I only require age and wage data.\n",
    "\n",
    "* First, I put all of the lines in the data file into a list. \n",
    "* Then, I deleted the descriptors above the data from the dataset. \n",
    "* Then, I made two empty lists; one for wage and one for age. \n",
    "* I then split every piece of data with commas and turned it into a list. \n",
    "* Lastly, I put the wage and age data into their respective lists and made sure to turn them into integers (age) and floating points (wage) in order to avoid the data being turned into a string and therefore restricting me from performing necessaary calculations. \n",
    "\n",
    "This dataset is accessible at link: https://data.seattle.gov/City-Business/City-of-Seattle-Staff-Demographics/5avq-r9hj\n",
    "\n",
    "This data is collected by the Seattle Department of Human Resources and, since the data collection is funded by tax dollars, the information is available to the public. The data is updated monthly, leading to accurate information and has 7 rows and over 14.4k columns. "
   ]
  },
  {
   "cell_type": "code",
   "execution_count": 6,
   "metadata": {},
   "outputs": [],
   "source": [
    "import statistics\n",
    "\n",
    "staff_file = open(\"City_of_Seattle_Staff_Demographics.csv\", \"r\");\n",
    "\n",
    "staff_data = [];\n",
    "\n",
    "for row in staff_file:\n",
    "    staff_data.append(row);\n",
    "\n",
    "    \n",
    "del staff_data[0];\n",
    "\n",
    "age = [];\n",
    "wage = [];\n",
    "\n",
    "for item in range(len(staff_data)):\n",
    "    file_row = staff_data[item].split(\",\")\n",
    "    age.append(int(file_row[3]))\n",
    "    wage.append(float(file_row[4]))\n",
    "    \n",
    "staff_file.close();"
   ]
  },
  {
   "cell_type": "markdown",
   "metadata": {},
   "source": [
    "## Data Modeling\n",
    "\n",
    "* Here, I used code in order to calculate the minimum, maximum, mode, median, and mean data points for both age and wage. I used the min, max and sum functions and, with the import statistics module, I also was able to calculate the mode, mean and median. \n",
    "* Uniquely, I also calculated the hourly cost of all Seattle City staff wages in order to determine how much it costs the city on a per/hour basis to pay its employees.  "
   ]
  },
  {
   "cell_type": "code",
   "execution_count": 7,
   "metadata": {},
   "outputs": [],
   "source": [
    "minage = min(age) \n",
    "minwage = min(wage)\n",
    "modewage = statistics.mode(wage)\n",
    "modeage = statistics.mode(age)\n",
    "maxage = max(age)\n",
    "maxwage = max(wage)\n",
    "meanage = statistics.mean(age)\n",
    "meanwage = statistics.mean(wage)\n",
    "medage = statistics.median(age)\n",
    "medwage = statistics.median(wage)\n",
    "totalhrlywage = sum(wage)\n"
   ]
  },
  {
   "cell_type": "markdown",
   "metadata": {},
   "source": [
    "### Wage Data Calculations:"
   ]
  },
  {
   "cell_type": "code",
   "execution_count": 8,
   "metadata": {},
   "outputs": [
    {
     "name": "stdout",
     "output_type": "stream",
     "text": [
      "Wage statistics:\n",
      "Minumum wage: 5.53\n",
      "Mode wage: 16.11\n",
      "Maximum wage: 162.8353\n",
      "Mean wage: 40.03381942370015\n",
      "Median wage: 39.02\n",
      "Sum of all hourly wages: 568240.0329000067\n"
     ]
    }
   ],
   "source": [
    "print(\"Wage statistics:\")\n",
    "print(\"Minumum wage:\", minwage)\n",
    "print(\"Mode wage:\", modewage)\n",
    "print(\"Maximum wage:\", maxwage)\n",
    "print(\"Mean wage:\", meanwage) \n",
    "print(\"Median wage:\", medwage)\n",
    "print(\"Sum of all hourly wages:\", totalhrlywage)"
   ]
  },
  {
   "cell_type": "markdown",
   "metadata": {},
   "source": [
    "### Age Data Calculations"
   ]
  },
  {
   "cell_type": "code",
   "execution_count": 9,
   "metadata": {},
   "outputs": [
    {
     "name": "stdout",
     "output_type": "stream",
     "text": [
      "Age Statistics:\n",
      "Minumum age: 14\n",
      "Mode age: 48\n",
      "Maximum age: 92\n",
      "Mean age: 44.53395801042694\n",
      "Median age: 45.0\n"
     ]
    }
   ],
   "source": [
    "print(\"Age Statistics:\")\n",
    "print(\"Minumum age:\", minage)\n",
    "print(\"Mode age:\", modeage)\n",
    "print(\"Maximum age:\", maxage)\n",
    "print(\"Mean age:\", meanage)\n",
    "print(\"Median age:\", medage)"
   ]
  },
  {
   "cell_type": "markdown",
   "metadata": {},
   "source": [
    "## Data Analysis & Conclusion\n",
    "\n",
    "### Wage Data:\n",
    "\n",
    "* When analyzing the wage data, we can conclude that the minimum wage for the staff of the City of Seattle is 5.53 dollars/hr. This is far less than I initially expected, mainly due to the fact that the Seattle overall minimum wage is 12.00 dollars/hr. This is an area for further exploration in order to find the age, gender and department of this individual.\n",
    "* We can also conclude that the mode wage is 16.11 dollars/hr which means that this is the most common wage among the Seattle City Staff. \n",
    "* The maximum wage for the staff of the City of Seattle is 162.84 dollars/hr, a number that makes me wonder what department/job the individual is working at and, the gender and age of the individual. \n",
    "* We can also conclude that the mean wage of a Seattle City employee is 40 dollars/hr, a relatively high number in comparison to both the minimum wage (5.53) as well as the minimum Seattle wage (12.00/hr). \n",
    "* The median wage, as concluded from the calculations is ~39.00 dollars/hr, a number that is extremely close to the mean wage. This makes me wonder if many or most of the Seattle City Staff wages are around the range of ~35-40 dollars/hr in order for the median and the mean to be so similar. \n",
    "* We can also conclude that the hourly cost for the City of Seattle to pay staff is around 568240.03 dollars. This makes me wonder how much the City of Seattle spends in a whole day, assuming that the average work day would last ~8 hours. \n"
   ]
  },
  {
   "cell_type": "code",
   "execution_count": 10,
   "metadata": {},
   "outputs": [
    {
     "name": "stdout",
     "output_type": "stream",
     "text": [
      "Assuming the average work day is 8 hours, the City of Seattle would spend on average 4545920.263200054 dollars daily on worker pay.\n"
     ]
    }
   ],
   "source": [
    "totaldaywage = totalhrlywage * 8\n",
    "print(\"Assuming the average work day is 8 hours, the City of Seattle would spend on average\", totaldaywage, \"dollars daily on worker pay.\")"
   ]
  },
  {
   "cell_type": "markdown",
   "metadata": {},
   "source": [
    "### Age Data:\n",
    "\n",
    "* When analyzing the wage data, we can conclude that the minimum age for the staff of the City of Seattle is 14 years. This makes me incredibly curious and, the nature of the work of this 14 year old could be an area for future exploration.\n",
    "* We can also conclude that the mode wage is 48 which means that this is the most common age among the Seattle City Staff.\n",
    "* The maximum wage for the staff of the City of Seattle is 92, an age far past retirement age. This makes me wonder how much this indivual is being paid and what type of work they are doing. \n",
    "* We can also conclude that the mean age of a Seattle City employee is 44, a number close to the mode of the data set. This makes me wonder if the age majority of the City of Seattle staff is concentrated in the 40s.\n",
    "* The median age, as concluded is 45, a number that, again, is incredibly close to the mode and the mean, furthering the idea that a large part of the Seattle City work force is in the range of 40 - 50 years old. "
   ]
  },
  {
   "cell_type": "markdown",
   "metadata": {},
   "source": [
    "### Questions: \n",
    "\n",
    "* Due to the fact that the minimum age is 14, this makes me wonder what position is held by the individual and, it also makes me wonder what their hours/week are. This, along with wage and position data for other youth under 18 is an area for future exploration within this dataset. \n",
    "* The calculation for the sum of all wages makes me wonder whether there has been fluxuation with the cost of wages for the City of Seattle and whether this has either been accompanied by either more/less jobs or higher/lower wages. \n",
    "* Another area for further exploration is finding out the statistics for percentage of male vs. female vs. other workers within the Seattle City Staff and what departments the different genders are concentrated. \n",
    "* I would also like to find out race statistics and figure out how diverse the Seattle City workforce is and whether or not it reflects the demographics and diversity of Seattle as a whole. "
   ]
  },
  {
   "cell_type": "markdown",
   "metadata": {},
   "source": [
    "## Acknowledgements\n",
    "\n",
    "* Used data from Ms. Sconyer's initial Jupyter Notebooks file in order to extract and put the age and wage data into the two separate lists. I also used Ms. Sconyers for advice on my dataset preparation and modeling sections. \n",
    "* I also acknowledge Seattle Department of Human Resources since without their data, I could not have made these calculations or modelled this data. \n",
    "\n"
   ]
  },
  {
   "cell_type": "code",
   "execution_count": null,
   "metadata": {},
   "outputs": [],
   "source": []
  }
 ],
 "metadata": {
  "kernelspec": {
   "display_name": "Python 3",
   "language": "python",
   "name": "python3"
  },
  "language_info": {
   "codemirror_mode": {
    "name": "ipython",
    "version": 3
   },
   "file_extension": ".py",
   "mimetype": "text/x-python",
   "name": "python",
   "nbconvert_exporter": "python",
   "pygments_lexer": "ipython3",
   "version": "3.7.1"
  }
 },
 "nbformat": 4,
 "nbformat_minor": 2
}
